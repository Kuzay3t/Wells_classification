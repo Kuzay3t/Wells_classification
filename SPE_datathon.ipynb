{
  "nbformat": 4,
  "nbformat_minor": 0,
  "metadata": {
    "colab": {
      "provenance": [],
      "authorship_tag": "ABX9TyN5djZDjNtLxzOQ1VsjTwNC",
      "include_colab_link": true
    },
    "kernelspec": {
      "name": "python3",
      "display_name": "Python 3"
    },
    "language_info": {
      "name": "python"
    }
  },
  "cells": [
    {
      "cell_type": "markdown",
      "metadata": {
        "id": "view-in-github",
        "colab_type": "text"
      },
      "source": [
        "<a href=\"https://colab.research.google.com/github/Kuzay3t/Wells_classification/blob/main/SPE_datathon.ipynb\" target=\"_parent\"><img src=\"https://colab.research.google.com/assets/colab-badge.svg\" alt=\"Open In Colab\"/></a>"
      ]
    },
    {
      "cell_type": "code",
      "execution_count": null,
      "metadata": {
        "id": "Jk6ZEhWHXK4X"
      },
      "outputs": [],
      "source": [
        "# importing necessary libaries\n",
        "\n",
        "import numpy as np\n",
        "import pandas as pd\n",
        "import matplotlib.pyplot as plt\n",
        "import seaborn as sns\n",
        "import warnings\n",
        "warnings.filterwarnings('ignore')"
      ]
    },
    {
      "cell_type": "code",
      "source": [
        "# uploading necessary files\n",
        "\n",
        "from google.colab import files\n",
        "file = files.upload()"
      ],
      "metadata": {
        "id": "Q_4o4BkbtN6E",
        "colab": {
          "base_uri": "https://localhost:8080/",
          "height": 177
        },
        "outputId": "bb592aff-1e2f-4624-d1f3-4d32b52b0b44"
      },
      "execution_count": null,
      "outputs": [
        {
          "output_type": "display_data",
          "data": {
            "text/plain": [
              "<IPython.core.display.HTML object>"
            ],
            "text/html": [
              "\n",
              "     <input type=\"file\" id=\"files-abe80aec-7ea1-4011-9bae-e2bad2e642e7\" name=\"files[]\" multiple disabled\n",
              "        style=\"border:none\" />\n",
              "     <output id=\"result-abe80aec-7ea1-4011-9bae-e2bad2e642e7\">\n",
              "      Upload widget is only available when the cell has been executed in the\n",
              "      current browser session. Please rerun this cell to enable.\n",
              "      </output>\n",
              "      <script>// Copyright 2017 Google LLC\n",
              "//\n",
              "// Licensed under the Apache License, Version 2.0 (the \"License\");\n",
              "// you may not use this file except in compliance with the License.\n",
              "// You may obtain a copy of the License at\n",
              "//\n",
              "//      http://www.apache.org/licenses/LICENSE-2.0\n",
              "//\n",
              "// Unless required by applicable law or agreed to in writing, software\n",
              "// distributed under the License is distributed on an \"AS IS\" BASIS,\n",
              "// WITHOUT WARRANTIES OR CONDITIONS OF ANY KIND, either express or implied.\n",
              "// See the License for the specific language governing permissions and\n",
              "// limitations under the License.\n",
              "\n",
              "/**\n",
              " * @fileoverview Helpers for google.colab Python module.\n",
              " */\n",
              "(function(scope) {\n",
              "function span(text, styleAttributes = {}) {\n",
              "  const element = document.createElement('span');\n",
              "  element.textContent = text;\n",
              "  for (const key of Object.keys(styleAttributes)) {\n",
              "    element.style[key] = styleAttributes[key];\n",
              "  }\n",
              "  return element;\n",
              "}\n",
              "\n",
              "// Max number of bytes which will be uploaded at a time.\n",
              "const MAX_PAYLOAD_SIZE = 100 * 1024;\n",
              "\n",
              "function _uploadFiles(inputId, outputId) {\n",
              "  const steps = uploadFilesStep(inputId, outputId);\n",
              "  const outputElement = document.getElementById(outputId);\n",
              "  // Cache steps on the outputElement to make it available for the next call\n",
              "  // to uploadFilesContinue from Python.\n",
              "  outputElement.steps = steps;\n",
              "\n",
              "  return _uploadFilesContinue(outputId);\n",
              "}\n",
              "\n",
              "// This is roughly an async generator (not supported in the browser yet),\n",
              "// where there are multiple asynchronous steps and the Python side is going\n",
              "// to poll for completion of each step.\n",
              "// This uses a Promise to block the python side on completion of each step,\n",
              "// then passes the result of the previous step as the input to the next step.\n",
              "function _uploadFilesContinue(outputId) {\n",
              "  const outputElement = document.getElementById(outputId);\n",
              "  const steps = outputElement.steps;\n",
              "\n",
              "  const next = steps.next(outputElement.lastPromiseValue);\n",
              "  return Promise.resolve(next.value.promise).then((value) => {\n",
              "    // Cache the last promise value to make it available to the next\n",
              "    // step of the generator.\n",
              "    outputElement.lastPromiseValue = value;\n",
              "    return next.value.response;\n",
              "  });\n",
              "}\n",
              "\n",
              "/**\n",
              " * Generator function which is called between each async step of the upload\n",
              " * process.\n",
              " * @param {string} inputId Element ID of the input file picker element.\n",
              " * @param {string} outputId Element ID of the output display.\n",
              " * @return {!Iterable<!Object>} Iterable of next steps.\n",
              " */\n",
              "function* uploadFilesStep(inputId, outputId) {\n",
              "  const inputElement = document.getElementById(inputId);\n",
              "  inputElement.disabled = false;\n",
              "\n",
              "  const outputElement = document.getElementById(outputId);\n",
              "  outputElement.innerHTML = '';\n",
              "\n",
              "  const pickedPromise = new Promise((resolve) => {\n",
              "    inputElement.addEventListener('change', (e) => {\n",
              "      resolve(e.target.files);\n",
              "    });\n",
              "  });\n",
              "\n",
              "  const cancel = document.createElement('button');\n",
              "  inputElement.parentElement.appendChild(cancel);\n",
              "  cancel.textContent = 'Cancel upload';\n",
              "  const cancelPromise = new Promise((resolve) => {\n",
              "    cancel.onclick = () => {\n",
              "      resolve(null);\n",
              "    };\n",
              "  });\n",
              "\n",
              "  // Wait for the user to pick the files.\n",
              "  const files = yield {\n",
              "    promise: Promise.race([pickedPromise, cancelPromise]),\n",
              "    response: {\n",
              "      action: 'starting',\n",
              "    }\n",
              "  };\n",
              "\n",
              "  cancel.remove();\n",
              "\n",
              "  // Disable the input element since further picks are not allowed.\n",
              "  inputElement.disabled = true;\n",
              "\n",
              "  if (!files) {\n",
              "    return {\n",
              "      response: {\n",
              "        action: 'complete',\n",
              "      }\n",
              "    };\n",
              "  }\n",
              "\n",
              "  for (const file of files) {\n",
              "    const li = document.createElement('li');\n",
              "    li.append(span(file.name, {fontWeight: 'bold'}));\n",
              "    li.append(span(\n",
              "        `(${file.type || 'n/a'}) - ${file.size} bytes, ` +\n",
              "        `last modified: ${\n",
              "            file.lastModifiedDate ? file.lastModifiedDate.toLocaleDateString() :\n",
              "                                    'n/a'} - `));\n",
              "    const percent = span('0% done');\n",
              "    li.appendChild(percent);\n",
              "\n",
              "    outputElement.appendChild(li);\n",
              "\n",
              "    const fileDataPromise = new Promise((resolve) => {\n",
              "      const reader = new FileReader();\n",
              "      reader.onload = (e) => {\n",
              "        resolve(e.target.result);\n",
              "      };\n",
              "      reader.readAsArrayBuffer(file);\n",
              "    });\n",
              "    // Wait for the data to be ready.\n",
              "    let fileData = yield {\n",
              "      promise: fileDataPromise,\n",
              "      response: {\n",
              "        action: 'continue',\n",
              "      }\n",
              "    };\n",
              "\n",
              "    // Use a chunked sending to avoid message size limits. See b/62115660.\n",
              "    let position = 0;\n",
              "    do {\n",
              "      const length = Math.min(fileData.byteLength - position, MAX_PAYLOAD_SIZE);\n",
              "      const chunk = new Uint8Array(fileData, position, length);\n",
              "      position += length;\n",
              "\n",
              "      const base64 = btoa(String.fromCharCode.apply(null, chunk));\n",
              "      yield {\n",
              "        response: {\n",
              "          action: 'append',\n",
              "          file: file.name,\n",
              "          data: base64,\n",
              "        },\n",
              "      };\n",
              "\n",
              "      let percentDone = fileData.byteLength === 0 ?\n",
              "          100 :\n",
              "          Math.round((position / fileData.byteLength) * 100);\n",
              "      percent.textContent = `${percentDone}% done`;\n",
              "\n",
              "    } while (position < fileData.byteLength);\n",
              "  }\n",
              "\n",
              "  // All done.\n",
              "  yield {\n",
              "    response: {\n",
              "      action: 'complete',\n",
              "    }\n",
              "  };\n",
              "}\n",
              "\n",
              "scope.google = scope.google || {};\n",
              "scope.google.colab = scope.google.colab || {};\n",
              "scope.google.colab._files = {\n",
              "  _uploadFiles,\n",
              "  _uploadFilesContinue,\n",
              "};\n",
              "})(self);\n",
              "</script> "
            ]
          },
          "metadata": {}
        },
        {
          "output_type": "stream",
          "name": "stdout",
          "text": [
            "Saving classification_parameters.csv to classification_parameters.csv\n",
            "Saving Innovisors_DSEATS_Africa_2025_Classification.csv to Innovisors_DSEATS_Africa_2025_Classification.csv\n",
            "Saving reservoir_info.csv to reservoir_info.csv\n",
            "Saving spe_africa_dseats_datathon_2025_wells_dataset.csv to spe_africa_dseats_datathon_2025_wells_dataset.csv\n"
          ]
        }
      ]
    },
    {
      "cell_type": "code",
      "source": [
        "# reading the csv files\n",
        "\n",
        "wells_df = pd.read_csv(\"spe_africa_dseats_datathon_2025_wells_dataset.csv\")\n",
        "reservoir_df = pd.read_csv(\"reservoir_info.csv\")\n",
        "classification_df = pd.read_csv(\"classification_parameters.csv\")"
      ],
      "metadata": {
        "id": "b_DUWJHrm7GW"
      },
      "execution_count": null,
      "outputs": []
    },
    {
      "cell_type": "code",
      "source": [
        "# cleaning the well data set\n",
        "print(\"This shows the summary of missing values in each column in the well dataset\")\n",
        "print(\"=======================================================\")\n",
        "print((wells_df.isnull().sum()))\n",
        "print(\"=======================================================\")"
      ],
      "metadata": {
        "colab": {
          "base_uri": "https://localhost:8080/"
        },
        "id": "6MzPJ64qoLEW",
        "outputId": "02c8af17-8251-4866-d7f4-4538c1a7f5b5"
      },
      "execution_count": null,
      "outputs": [
        {
          "output_type": "stream",
          "name": "stdout",
          "text": [
            "This shows the summary of missing values in each column in the well dataset\n",
            "=======================================================\n",
            "PROD_DATE                               0\n",
            "WELL_NAME                               0\n",
            "ON_STREAM_HRS                           0\n",
            "BOTTOMHOLE_FLOWING_PRESSURE (PSI)       0\n",
            "DOWNHOLE_TEMPERATURE (deg F)            0\n",
            "ANNULUS_PRESS (PSI)                     0\n",
            "CHOKE_SIZE (%)                          0\n",
            "WELL_HEAD_PRESSURE (PSI)                0\n",
            "WELL_HEAD_TEMPERATURE (deg F)           0\n",
            "CUMULATIVE_OIL_PROD (STB)               0\n",
            "CUMULATIVE_FORMATION_GAS_PROD (MSCF)    0\n",
            "CUMULATIVE_TOTAL_GAS_PROD (MSCF)        0\n",
            "CUMULATIVE_WATER_PROD (BBL)             0\n",
            "dtype: int64\n",
            "=======================================================\n"
          ]
        }
      ]
    },
    {
      "cell_type": "code",
      "source": [
        "# EDA of the Well Datset\n",
        "print(\"=======================================================\")\n",
        "print(\"This shows the first 10 rows in the well dataset\")\n",
        "print(wells_df.head(10))\n",
        "print(\"=======================================================\")\n",
        "\n",
        "\n",
        "print(\"=======================================================\")\n",
        "print(\"This shows the statistical summary of the well dataset\")\n",
        "print(wells_df.describe())\n",
        "print(\"=======================================================\")\n",
        "\n",
        "print(\"=======================================================\")\n",
        "print(\"This shows column information the well dataset\")\n",
        "print(wells_df.info())\n",
        "print(\"=======================================================\")"
      ],
      "metadata": {
        "colab": {
          "base_uri": "https://localhost:8080/"
        },
        "id": "OwbC-AmNoV_Q",
        "outputId": "534be22a-2d4a-4488-c044-d275468012d5"
      },
      "execution_count": null,
      "outputs": [
        {
          "output_type": "stream",
          "name": "stdout",
          "text": [
            "=======================================================\n",
            "This shows the first 10 rows in the well dataset\n",
            "   PROD_DATE WELL_NAME  ON_STREAM_HRS BOTTOMHOLE_FLOWING_PRESSURE (PSI)  \\\n",
            "0  15-Feb-14   Well_#1            0.0                             4,050   \n",
            "1  16-Feb-14   Well_#1            0.0                             3,961   \n",
            "2  17-Feb-14   Well_#1            0.0                             3,961   \n",
            "3  18-Feb-14   Well_#1            0.0                             3,964   \n",
            "4  19-Feb-14   Well_#1            0.0                             3,965   \n",
            "5  20-Feb-14   Well_#1            0.0                             3,964   \n",
            "6  21-Feb-14   Well_#1            0.0                             3,972   \n",
            "7  22-Feb-14   Well_#1            0.0                             3,978   \n",
            "8  23-Feb-14   Well_#1            0.0                             3,985   \n",
            "9  24-Feb-14   Well_#1            0.0                             4,096   \n",
            "\n",
            "   DOWNHOLE_TEMPERATURE (deg F) ANNULUS_PRESS (PSI)  CHOKE_SIZE (%)  \\\n",
            "0                       189.866                   0         1.17951   \n",
            "1                       189.945                   0         2.99440   \n",
            "2                       190.004                   0         1.90349   \n",
            "3                       190.020                   0         0.00000   \n",
            "4                       190.107                   0        30.20760   \n",
            "5                       190.181                   0         0.00000   \n",
            "6                       189.939                   0        39.99891   \n",
            "7                       189.609                   0         0.00000   \n",
            "8                       189.435                   0         0.42376   \n",
            "9                       189.343                   0         0.44066   \n",
            "\n",
            "  WELL_HEAD_PRESSURE (PSI)  WELL_HEAD_TEMPERATURE (deg F)  \\\n",
            "0                   482.46                         50.864   \n",
            "1                  328.601                         47.668   \n",
            "2                  387.218                         48.962   \n",
            "3                   308.98                         46.636   \n",
            "4                  196.057                         47.297   \n",
            "5                   58.036                         47.878   \n",
            "6                  304.692                         47.938   \n",
            "7                  453.734                         49.351   \n",
            "8                   667.13                         49.351   \n",
            "9                  440.036                         49.316   \n",
            "\n",
            "  CUMULATIVE_OIL_PROD (STB) CUMULATIVE_FORMATION_GAS_PROD (MSCF)  \\\n",
            "0                         0                                    0   \n",
            "1                         0                                    0   \n",
            "2                         0                                    0   \n",
            "3                         0                                    0   \n",
            "4                         0                                    0   \n",
            "5                         0                                    0   \n",
            "6                         0                                    0   \n",
            "7                         0                                    0   \n",
            "8                         0                                    0   \n",
            "9                         0                                    0   \n",
            "\n",
            "  CUMULATIVE_TOTAL_GAS_PROD (MSCF) CUMULATIVE_WATER_PROD (BBL)  \n",
            "0                                0                           0  \n",
            "1                                0                           0  \n",
            "2                                0                           0  \n",
            "3                                0                           0  \n",
            "4                                0                           0  \n",
            "5                                0                           0  \n",
            "6                                0                           0  \n",
            "7                                0                           0  \n",
            "8                                0                           0  \n",
            "9                                0                           0  \n",
            "=======================================================\n",
            "=======================================================\n",
            "This shows the statistical summary of the well dataset\n",
            "       ON_STREAM_HRS  DOWNHOLE_TEMPERATURE (deg F)  CHOKE_SIZE (%)  \\\n",
            "count    7955.000000                   7955.000000     7955.000000   \n",
            "mean       21.623497                    168.757429       56.155295   \n",
            "std         6.567826                     31.917787       34.975408   \n",
            "min         0.000000                      0.000000        0.000000   \n",
            "25%        24.000000                    150.228500       28.130855   \n",
            "50%        24.000000                    158.624000       51.068030   \n",
            "75%        24.000000                    202.600000       99.800950   \n",
            "max        25.000000                    212.153000      100.000000   \n",
            "\n",
            "       WELL_HEAD_TEMPERATURE (deg F)  \n",
            "count                    7955.000000  \n",
            "mean                       86.836365  \n",
            "std                        22.738615  \n",
            "min                         0.000000  \n",
            "25%                        80.677500  \n",
            "50%                        88.364000  \n",
            "75%                        96.770500  \n",
            "max                       182.157000  \n",
            "=======================================================\n",
            "=======================================================\n",
            "This shows column information the well dataset\n",
            "<class 'pandas.core.frame.DataFrame'>\n",
            "RangeIndex: 7955 entries, 0 to 7954\n",
            "Data columns (total 13 columns):\n",
            " #   Column                                Non-Null Count  Dtype  \n",
            "---  ------                                --------------  -----  \n",
            " 0   PROD_DATE                             7955 non-null   object \n",
            " 1   WELL_NAME                             7955 non-null   object \n",
            " 2   ON_STREAM_HRS                         7955 non-null   float64\n",
            " 3   BOTTOMHOLE_FLOWING_PRESSURE (PSI)     7955 non-null   object \n",
            " 4   DOWNHOLE_TEMPERATURE (deg F)          7955 non-null   float64\n",
            " 5   ANNULUS_PRESS (PSI)                   7955 non-null   object \n",
            " 6   CHOKE_SIZE (%)                        7955 non-null   float64\n",
            " 7   WELL_HEAD_PRESSURE (PSI)              7955 non-null   object \n",
            " 8   WELL_HEAD_TEMPERATURE (deg F)         7955 non-null   float64\n",
            " 9   CUMULATIVE_OIL_PROD (STB)             7955 non-null   object \n",
            " 10  CUMULATIVE_FORMATION_GAS_PROD (MSCF)  7955 non-null   object \n",
            " 11  CUMULATIVE_TOTAL_GAS_PROD (MSCF)      7955 non-null   object \n",
            " 12  CUMULATIVE_WATER_PROD (BBL)           7955 non-null   object \n",
            "dtypes: float64(4), object(9)\n",
            "memory usage: 808.1+ KB\n",
            "None\n",
            "=======================================================\n"
          ]
        }
      ]
    },
    {
      "cell_type": "markdown",
      "source": [
        "# **Determining Saturation or Unsaturation of each resorvoir**"
      ],
      "metadata": {
        "id": "Y8Wxc0azwK9k"
      }
    },
    {
      "cell_type": "code",
      "source": [
        "# Clean numeric columns (remove commas and convert to float)\n",
        "reservoir_df[\"Initial Reservoir Pressure (PSI)\"] = reservoir_df[\"Initial Reservoir Pressure (PSI)\"].str.replace(\",\", \"\").astype(float)\n",
        "reservoir_df[\"Bubble Point Pressure (PSI)\"] = reservoir_df[\"Bubble Point Pressure (PSI)\"].str.replace(\",\", \"\").astype(float)\n"
      ],
      "metadata": {
        "id": "Yyq0N6bPwaWG"
      },
      "execution_count": null,
      "outputs": []
    },
    {
      "cell_type": "code",
      "source": [
        "print(\"Converted 'Initial Reservoir Pressure (PSI)' values:\")\n",
        "print(reservoir_df[\"Initial Reservoir Pressure (PSI)\"])"
      ],
      "metadata": {
        "colab": {
          "base_uri": "https://localhost:8080/"
        },
        "id": "ZEVhAfHSw6Oe",
        "outputId": "d39b8ff0-8e5d-47e4-bdd4-8ec82c03c84d"
      },
      "execution_count": null,
      "outputs": [
        {
          "output_type": "stream",
          "name": "stdout",
          "text": [
            "Converted 'Initial Reservoir Pressure (PSI)' values:\n",
            "0    3500.0\n",
            "1    4200.0\n",
            "2    3500.0\n",
            "3    2800.0\n",
            "4    4500.0\n",
            "Name: Initial Reservoir Pressure (PSI), dtype: float64\n"
          ]
        }
      ]
    },
    {
      "cell_type": "code",
      "source": [
        "# Classify saturation status\n",
        "reservoir_df[\"Saturation Status\"] = reservoir_df.apply(\n",
        "    lambda row: \"Saturated\" if row[\"Initial Reservoir Pressure (PSI)\"] == row[\"Bubble Point Pressure (PSI)\"]\n",
        "               else (\"Undersaturated\" if row[\"Initial Reservoir Pressure (PSI)\"] > row[\"Bubble Point Pressure (PSI)\"]\n",
        "               else \"Invalid (Check Data)\"),\n",
        "    axis=1\n",
        ")"
      ],
      "metadata": {
        "id": "9ycTvYmdxcgi"
      },
      "execution_count": null,
      "outputs": []
    },
    {
      "cell_type": "code",
      "source": [
        "# Add calculation explanation\n",
        "reservoir_df[\"Calculation\"] = reservoir_df.apply(\n",
        "    lambda row: f\"Initial Pressure ({row['Initial Reservoir Pressure (PSI)']} PSI) {'=' if row['Saturation Status'] == 'Saturated' else '>'} Bubble Point ({row['Bubble Point Pressure (PSI)']} PSI)\",\n",
        "    axis=1\n",
        ")"
      ],
      "metadata": {
        "id": "plMxhJwuxgLe"
      },
      "execution_count": null,
      "outputs": []
    },
    {
      "cell_type": "code",
      "source": [
        "# Print results\n",
        "print(reservoir_df[[\"Reservoir Name\", \"Saturation Status\", \"Calculation\"]])"
      ],
      "metadata": {
        "colab": {
          "base_uri": "https://localhost:8080/"
        },
        "id": "xcyAXw6huj_M",
        "outputId": "92f1879d-6b61-4a8a-a215-b06f61ccf73d"
      },
      "execution_count": null,
      "outputs": [
        {
          "output_type": "stream",
          "name": "stdout",
          "text": [
            "  Reservoir Name Saturation Status  \\\n",
            "0           ACHI    Undersaturated   \n",
            "1           KEMA    Undersaturated   \n",
            "2           MAKO         Saturated   \n",
            "3           DEPU         Saturated   \n",
            "4           JANI    Undersaturated   \n",
            "\n",
            "                                         Calculation  \n",
            "0  Initial Pressure (3500.0 PSI) > Bubble Point (...  \n",
            "1  Initial Pressure (4200.0 PSI) > Bubble Point (...  \n",
            "2  Initial Pressure (3500.0 PSI) = Bubble Point (...  \n",
            "3  Initial Pressure (2800.0 PSI) = Bubble Point (...  \n",
            "4  Initial Pressure (4500.0 PSI) > Bubble Point (...  \n"
          ]
        }
      ]
    },
    {
      "cell_type": "markdown",
      "source": [],
      "metadata": {
        "id": "X7HvI1fd44sV"
      }
    },
    {
      "cell_type": "markdown",
      "source": [
        "## **Finding whether the Reservoir is Steady or Unsteady**"
      ],
      "metadata": {
        "id": "jr29H4w6443C"
      }
    },
    {
      "cell_type": "code",
      "source": [
        "# Convert date and ensure proper sorting\n",
        "wells_df[\"PROD_DATE\"] = pd.to_datetime(wells_df[\"PROD_DATE\"], format=\"%d-%b-%y\")\n",
        "wells_df = wells_df.sort_values([\"WELL_NAME\", \"PROD_DATE\"])\n",
        "\n",
        "# Clean the cumulative production column: remove commas and convert to numeric\n",
        "wells_df[\"CUMULATIVE_OIL_PROD (STB)\"] = wells_df[\"CUMULATIVE_OIL_PROD (STB)\"].str.replace(\",\", \"\").astype(float)\n",
        "\n",
        "\n",
        "# Calculate daily oil production (difference between cumulative values)\n",
        "wells_df[\"Daily_Oil_Prod (STB)\"] = wells_df.groupby(\"WELL_NAME\")[\"CUMULATIVE_OIL_PROD (STB)\"].diff().fillna(0)\n",
        "\n",
        "# Handle negative values (if any)\n",
        "wells_df[\"Daily_Oil_Prod (STB)\"] = wells_df[\"Daily_Oil_Prod (STB)\"].clip(lower=0)\n",
        "\n",
        "# Print the final calculated daily production for each well\n",
        "print(\"=== Final Daily Oil Production (STB) ===\")\n",
        "print(wells_df[[\"WELL_NAME\", \"PROD_DATE\", \"Daily_Oil_Prod (STB)\"]].tail(20))"
      ],
      "metadata": {
        "colab": {
          "base_uri": "https://localhost:8080/"
        },
        "id": "FT5DIoPpxZYW",
        "outputId": "9e56c2ea-ec4f-4494-8f4a-8b6086bfafad"
      },
      "execution_count": null,
      "outputs": [
        {
          "output_type": "stream",
          "name": "stdout",
          "text": [
            "=== Final Daily Oil Production (STB) ===\n",
            "     WELL_NAME  PROD_DATE  Daily_Oil_Prod (STB)\n",
            "3529   Well_#9 2016-07-24                 140.0\n",
            "3530   Well_#9 2016-07-25                 134.0\n",
            "3531   Well_#9 2016-07-26                 129.0\n",
            "3532   Well_#9 2016-07-27                 127.0\n",
            "3533   Well_#9 2016-07-28                 129.0\n",
            "3534   Well_#9 2016-07-29                 130.0\n",
            "3535   Well_#9 2016-07-30                 132.0\n",
            "3536   Well_#9 2016-07-31                 132.0\n",
            "3537   Well_#9 2016-08-01                 137.0\n",
            "3538   Well_#9 2016-08-02                 129.0\n",
            "3539   Well_#9 2016-08-03                 124.0\n",
            "3540   Well_#9 2016-08-04                 118.0\n",
            "3541   Well_#9 2016-08-05                 122.0\n",
            "3542   Well_#9 2016-08-06                 119.0\n",
            "3543   Well_#9 2016-08-07                 120.0\n",
            "3544   Well_#9 2016-08-08                 119.0\n",
            "3545   Well_#9 2016-08-09                 111.0\n",
            "3546   Well_#9 2016-08-10                 118.0\n",
            "3547   Well_#9 2016-08-11                 121.0\n",
            "3548   Well_#9 2016-08-12                 104.0\n"
          ]
        }
      ]
    },
    {
      "cell_type": "markdown",
      "source": [
        "## **Task 1: Identify the Reservoir for Each Well**\n",
        "For each well, find the maximum bottomhole flowing pressure (BHP) from its 30 days of data.\n",
        "Then, assign the well to a reservoir whose current average pressure is within ±200 psi of that max BHP.\n",
        "\n"
      ],
      "metadata": {
        "id": "zEyeFXF0lyEA"
      }
    },
    {
      "cell_type": "code",
      "source": [
        "# Group by well and find the max BHP for each\n",
        "max_bhp_df = wells_df.groupby('WELL_NAME')[\"BOTTOMHOLE_FLOWING_PRESSURE (PSI)\"].max().reset_index()\n",
        "max_bhp_df.columns = ['WELL_NAME', 'MAX_BHP']\n"
      ],
      "metadata": {
        "id": "5o6qJ6ocPD0c"
      },
      "execution_count": null,
      "outputs": []
    },
    {
      "cell_type": "code",
      "source": [
        "# Clean pressure data (remove commas and convert to float)\n",
        "wells_df[\"BOTTOMHOLE_FLOWING_PRESSURE (PSI)\"] = (\n",
        "    wells_df[\"BOTTOMHOLE_FLOWING_PRESSURE (PSI)\"]\n",
        "    .str.replace(\",\", \"\")\n",
        "    .astype(float)\n",
        ")\n"
      ],
      "metadata": {
        "id": "kHVbCdLWmlH9"
      },
      "execution_count": null,
      "outputs": []
    },
    {
      "cell_type": "code",
      "source": [
        "reservoir_df[\"Current Average Reservoir Pressure (PSI)\"] = (\n",
        "    reservoir_df[\"Current Average Reservoir Pressure (PSI)\"]\n",
        "    .str.replace(\",\", \"\")\n",
        "    .astype(float)\n",
        ")\n"
      ],
      "metadata": {
        "id": "kRT3lIbvmqMS"
      },
      "execution_count": null,
      "outputs": []
    },
    {
      "cell_type": "code",
      "source": [
        "# Step 1: Find max BHFP for each well\n",
        "max_bhfp = wells_df.groupby(\"WELL_NAME\")[\"BOTTOMHOLE_FLOWING_PRESSURE (PSI)\"].max().reset_index()\n",
        "\n",
        "# Step 2: Function to assign reservoir based on 200 PSI rule\n",
        "def assign_reservoir(bhfp):\n",
        "    for _, row in reservoir_df.iterrows():\n",
        "        reservoir_name = row[\"Reservoir Name\"]\n",
        "        reservoir_pressure = row[\"Current Average Reservoir Pressure (PSI)\"]\n",
        "        if abs(bhfp - reservoir_pressure) <= 200:\n",
        "            return reservoir_name\n",
        "    return \"Unknown\"  # If no reservoir matches"
      ],
      "metadata": {
        "id": "qdjfPrrem5Tg"
      },
      "execution_count": null,
      "outputs": []
    },
    {
      "cell_type": "code",
      "source": [
        "# Step 3: Assign reservoirs to wells\n",
        "max_bhfp[\"Reservoir\"] = max_bhfp[\"BOTTOMHOLE_FLOWING_PRESSURE (PSI)\"].apply(assign_reservoir)\n",
        "\n",
        "# Display results\n",
        "print(max_bhfp[[\"WELL_NAME\", \"Reservoir\", \"BOTTOMHOLE_FLOWING_PRESSURE (PSI)\"]])"
      ],
      "metadata": {
        "colab": {
          "base_uri": "https://localhost:8080/"
        },
        "id": "_L0gTQrum-JT",
        "outputId": "b4a6fa29-7c8c-45d9-bada-4f354b33dbd5"
      },
      "execution_count": null,
      "outputs": [
        {
          "output_type": "stream",
          "name": "stdout",
          "text": [
            "   WELL_NAME Reservoir  BOTTOMHOLE_FLOWING_PRESSURE (PSI)\n",
            "0    Well_#1      KEMA                             4096.0\n",
            "1   Well_#10      KEMA                             4051.0\n",
            "2   Well_#11      ACHI                             2521.0\n",
            "3   Well_#12      ACHI                             2557.0\n",
            "4   Well_#13      DEPU                             2246.0\n",
            "5   Well_#14      ACHI                             2857.0\n",
            "6   Well_#15      KEMA                             4032.0\n",
            "7   Well_#16      KEMA                             3836.0\n",
            "8   Well_#17      DEPU                             2304.0\n",
            "9   Well_#18      ACHI                             2621.0\n",
            "10  Well_#19      KEMA                             4036.0\n",
            "11   Well_#2      KEMA                             3735.0\n",
            "12  Well_#20      ACHI                             2858.0\n",
            "13   Well_#3      MAKO                             2985.0\n",
            "14   Well_#4      DEPU                             2340.0\n",
            "15   Well_#5      MAKO                             2933.0\n",
            "16   Well_#6      KEMA                             3797.0\n",
            "17   Well_#7      KEMA                             3821.0\n",
            "18   Well_#8      ACHI                             2681.0\n",
            "19   Well_#9      DEPU                             2333.0\n"
          ]
        }
      ]
    },
    {
      "cell_type": "markdown",
      "source": [
        "## **WELL EXPLORATORY DATA ANALYSIS**"
      ],
      "metadata": {
        "id": "i3Hp4qY3nnoS"
      }
    },
    {
      "cell_type": "code",
      "source": [
        "import matplotlib.pyplot as plt\n",
        "\n",
        "# Choose a well to visualize\n",
        "well_name = \"WELL_01\"\n",
        "\n",
        "# Filter data for just that well\n",
        "well_data = wells_df[wells_df[\"WELL_NAME\"] == well_name]\n",
        "\n",
        "# Sort by production date\n",
        "well_data[\"PROD_DATE\"] = pd.to_datetime(well_data[\"PROD_DATE\"])\n",
        "well_data = well_data.sort_values(\"PROD_DATE\")\n",
        "\n",
        "# Compute daily rates\n",
        "well_data['dOil'] = well_data['CUMULATIVE_OIL_PROD (STB)'].diff()\n",
        "well_data['dWater'] = well_data['CUMULATIVE_WATER_PROD (BBL)'].diff()\n",
        "well_data['dGas'] = well_data['CUMULATIVE_FORMATION_GAS_PROD (MSCF)'].diff()\n",
        "well_data['GOR'] = well_data['dGas'] / well_data['dOil']\n",
        "well_data['Watercut'] = well_data['dWater'] / (well_data['dOil'] + well_data['dWater'])\n",
        "\n",
        "# Plot 1: Oil, Gas, Water Rates\n",
        "plt.figure(figsize=(10, 6))\n",
        "plt.plot(well_data[\"PROD_DATE\"], well_data[\"dOil\"], label=\"Oil Rate (STB/day)\")\n",
        "plt.plot(well_data[\"PROD_DATE\"], well_data[\"dGas\"], label=\"Gas Rate (MSCF/day)\")\n",
        "plt.plot(well_data[\"PROD_DATE\"], well_data[\"dWater\"], label=\"Water Rate (BBL/day)\")\n",
        "plt.title(f\"Production Rates - {well_name}\")\n",
        "plt.xlabel(\"Date\")\n",
        "plt.ylabel(\"Production\")\n",
        "plt.legend()\n",
        "plt.grid(True)\n",
        "plt.show()"
      ],
      "metadata": {
        "colab": {
          "base_uri": "https://localhost:8080/",
          "height": 564
        },
        "id": "eEmbVm7InBuE",
        "outputId": "3abbca0e-9f9c-4eff-875a-24ab55510678"
      },
      "execution_count": null,
      "outputs": [
        {
          "output_type": "display_data",
          "data": {
            "text/plain": [
              "<Figure size 1000x600 with 1 Axes>"
            ],
            "image/png": "[encoded data removed]"
          },
          "metadata": {}
        }
      ]
    },
    {
      "cell_type": "code",
      "source": [
        "# Plot 2: GOR\n",
        "plt.figure(figsize=(10, 4))\n",
        "plt.plot(well_data[\"PROD_DATE\"], well_data[\"GOR\"], color='purple')\n",
        "plt.title(f\"GOR Trend - {well_name}\")\n",
        "plt.xlabel(\"Date\")\n",
        "plt.ylabel(\"Gas Oil Ratio (GOR)\")\n",
        "plt.grid(True)\n",
        "plt.show()"
      ],
      "metadata": {
        "colab": {
          "base_uri": "https://localhost:8080/",
          "height": 410
        },
        "id": "ceAasQtknvAn",
        "outputId": "f2eac763-df25-4da9-e8f7-1b11c5afc8c5"
      },
      "execution_count": null,
      "outputs": [
        {
          "output_type": "display_data",
          "data": {
            "text/plain": [
              "<Figure size 1000x400 with 1 Axes>"
            ],
            "image/png": "[encoded data removed]"
          },
          "metadata": {}
        }
      ]
    },
    {
      "cell_type": "code",
      "source": [
        "\n",
        "# Plot 3: Watercut\n",
        "plt.figure(figsize=(10, 4))\n",
        "plt.plot(well_data[\"PROD_DATE\"], well_data[\"Watercut\"], color='blue')\n",
        "plt.title(f\"Watercut Trend - {well_name}\")\n",
        "plt.xlabel(\"Date\")\n",
        "plt.ylabel(\"Watercut\")\n",
        "plt.grid(True)\n",
        "plt.show()\n"
      ],
      "metadata": {
        "colab": {
          "base_uri": "https://localhost:8080/",
          "height": 410
        },
        "id": "52VNM-8bn_fk",
        "outputId": "c8c16fd0-0a37-4603-86ab-f2bdf6ed89e7"
      },
      "execution_count": null,
      "outputs": [
        {
          "output_type": "display_data",
          "data": {
            "text/plain": [
              "<Figure size 1000x400 with 1 Axes>"
            ],
            "image/png": "[encoded data removed]"
          },
          "metadata": {}
        }
      ]
    },
    {
      "cell_type": "markdown",
      "source": [
        "## **Determine Oil Productivity Index (PI) Trend**"
      ],
      "metadata": {
        "id": "cTCyCV4ZopBB"
      }
    },
    {
      "cell_type": "code",
      "source": [
        "# Clean pressure data (remove commas)\n",
        "wells_df[\"BOTTOMHOLE_FLOWING_PRESSURE (PSI)\"] = wells_df[\"BOTTOMHOLE_FLOWING_PRESSURE (PSI)\"].astype(float)\n",
        "reservoir_df[\"Current Average Reservoir Pressure (PSI)\"] = reservoir_df[\"Current Average Reservoir Pressure (PSI)\"].astype(float)"
      ],
      "metadata": {
        "id": "9sT1KE_woqjU"
      },
      "execution_count": null,
      "outputs": []
    },
    {
      "cell_type": "code",
      "source": [
        "# Merge reservoir information (including the assigned reservoir) into wells data\n",
        "wells_df = wells_df.merge(\n",
        "    max_bhfp[[\"WELL_NAME\", \"Reservoir\"]],\n",
        "    on=\"WELL_NAME\",\n",
        "    how=\"left\"\n",
        ")\n",
        "\n",
        "# Merge reservoir pressure into wells data using the newly merged 'Reservoir' column\n",
        "wells_df = wells_df.merge(\n",
        "    reservoir_df[[\"Reservoir Name\", \"Current Average Reservoir Pressure (PSI)\"]],\n",
        "    left_on=\"Reservoir\",\n",
        "    right_on=\"Reservoir Name\",\n",
        "    how=\"left\"\n",
        ")\n",
        "\n",
        "# Drop the redundant 'Reservoir Name' column\n",
        "wells_df = wells_df.drop(\"Reservoir Name\", axis=1)\n",
        "\n",
        "# Display the updated wells_df with merged information\n",
        "print(wells_df.head())"
      ],
      "metadata": {
        "colab": {
          "base_uri": "https://localhost:8080/"
        },
        "id": "SlJ6--FDoAdV",
        "outputId": "9aba2f60-377d-4e71-c19b-9e090488a130"
      },
      "execution_count": null,
      "outputs": [
        {
          "output_type": "stream",
          "name": "stdout",
          "text": [
            "   PROD_DATE WELL_NAME  ON_STREAM_HRS  BOTTOMHOLE_FLOWING_PRESSURE (PSI)  \\\n",
            "0 2014-02-15   Well_#1            0.0                             4050.0   \n",
            "1 2014-02-16   Well_#1            0.0                             3961.0   \n",
            "2 2014-02-17   Well_#1            0.0                             3961.0   \n",
            "3 2014-02-18   Well_#1            0.0                             3964.0   \n",
            "4 2014-02-19   Well_#1            0.0                             3965.0   \n",
            "\n",
            "   DOWNHOLE_TEMPERATURE (deg F) ANNULUS_PRESS (PSI)  CHOKE_SIZE (%)  \\\n",
            "0                       189.866                   0         1.17951   \n",
            "1                       189.945                   0         2.99440   \n",
            "2                       190.004                   0         1.90349   \n",
            "3                       190.020                   0         0.00000   \n",
            "4                       190.107                   0        30.20760   \n",
            "\n",
            "  WELL_HEAD_PRESSURE (PSI)  WELL_HEAD_TEMPERATURE (deg F)  \\\n",
            "0                   482.46                         50.864   \n",
            "1                  328.601                         47.668   \n",
            "2                  387.218                         48.962   \n",
            "3                   308.98                         46.636   \n",
            "4                  196.057                         47.297   \n",
            "\n",
            "   CUMULATIVE_OIL_PROD (STB) CUMULATIVE_FORMATION_GAS_PROD (MSCF)  \\\n",
            "0                        0.0                                    0   \n",
            "1                        0.0                                    0   \n",
            "2                        0.0                                    0   \n",
            "3                        0.0                                    0   \n",
            "4                        0.0                                    0   \n",
            "\n",
            "  CUMULATIVE_TOTAL_GAS_PROD (MSCF) CUMULATIVE_WATER_PROD (BBL)  \\\n",
            "0                                0                           0   \n",
            "1                                0                           0   \n",
            "2                                0                           0   \n",
            "3                                0                           0   \n",
            "4                                0                           0   \n",
            "\n",
            "   Daily_Oil_Prod (STB) Reservoir  Current Average Reservoir Pressure (PSI)  \n",
            "0                   0.0      KEMA                                    3900.0  \n",
            "1                   0.0      KEMA                                    3900.0  \n",
            "2                   0.0      KEMA                                    3900.0  \n",
            "3                   0.0      KEMA                                    3900.0  \n",
            "4                   0.0      KEMA                                    3900.0  \n"
          ]
        }
      ]
    },
    {
      "cell_type": "code",
      "source": [
        "# Calculate daily oil production (STB/day)\n",
        "wells_df[\"Daily_Oil_Prod (STB)\"] = wells_df.groupby(\"WELL_NAME\")[\"CUMULATIVE_OIL_PROD (STB)\"].diff().fillna(0)\n",
        "\n",
        "# Calculate pressure drawdown and PI\n",
        "wells_df[\"Drawdown (PSI)\"] = wells_df[\"Current Average Reservoir Pressure (PSI)\"] - wells_df[\"BOTTOMHOLE_FLOWING_PRESSURE (PSI)\"]\n",
        "wells_df[\"PI (STB/day/PSI)\"] = wells_df[\"Daily_Oil_Prod (STB)\"] / wells_df[\"Drawdown (PSI)\"]\n",
        "\n",
        "# Handle infinite/negative values (e.g., zero drawdown)\n",
        "wells_df[\"PI (STB/day/PSI)\"] = wells_df[\"PI (STB/day/PSI)\"].replace([float('inf'), -float('inf')], 0).clip(lower=0)"
      ],
      "metadata": {
        "id": "iyi1NQv_pBqz"
      },
      "execution_count": null,
      "outputs": []
    },
    {
      "cell_type": "code",
      "source": [
        "from scipy.stats import linregress\n",
        "\n",
        "def classify_pi_trend(pi_series):\n",
        "    x = np.arange(len(pi_series))  # Time steps\n",
        "    slope, _, _, _, _ = linregress(x, pi_series)\n",
        "\n",
        "    if abs(slope) < 0.1 * pi_series.mean():  # Flat (slope near zero)\n",
        "        return \"Flat\"\n",
        "    elif slope > 0:                          # Increasing\n",
        "        return \"Increasing\"\n",
        "    elif slope < 0:                          # Decreasing\n",
        "        return \"Decreasing\"\n",
        "    else:                                    # Mixed trends\n",
        "        return \"Combination\"\n",
        "\n",
        "# Group by well and classify trends\n",
        "pi_trends = wells_df.groupby(\"WELL_NAME\")[\"PI (STB/day/PSI)\"].apply(\n",
        "    lambda x: classify_pi_trend(x.dropna())  # Drop NaN values\n",
        ").reset_index(name=\"PI_Trend\")\n",
        "\n",
        "print(pi_trends)"
      ],
      "metadata": {
        "colab": {
          "base_uri": "https://localhost:8080/"
        },
        "id": "dUnX8WkQpQh1",
        "outputId": "c81b9d4a-57a2-400b-99b5-dff6a6da5e8d"
      },
      "execution_count": null,
      "outputs": [
        {
          "output_type": "stream",
          "name": "stdout",
          "text": [
            "   WELL_NAME     PI_Trend\n",
            "0    Well_#1         Flat\n",
            "1   Well_#10  Combination\n",
            "2   Well_#11         Flat\n",
            "3   Well_#12         Flat\n",
            "4   Well_#13         Flat\n",
            "5   Well_#14         Flat\n",
            "6   Well_#15         Flat\n",
            "7   Well_#16         Flat\n",
            "8   Well_#17         Flat\n",
            "9   Well_#18         Flat\n",
            "10  Well_#19         Flat\n",
            "11   Well_#2         Flat\n",
            "12  Well_#20         Flat\n",
            "13   Well_#3         Flat\n",
            "14   Well_#4         Flat\n",
            "15   Well_#5         Flat\n",
            "16   Well_#6         Flat\n",
            "17   Well_#7         Flat\n",
            "18   Well_#8         Flat\n",
            "19   Well_#9         Flat\n"
          ]
        }
      ]
    },
    {
      "cell_type": "markdown",
      "source": [
        "## **Determine Watercut Trend**"
      ],
      "metadata": {
        "id": "c3VHsFUtqAYR"
      }
    },
    {
      "cell_type": "code",
      "source": [
        "# Clean cumulative production columns (remove commas and convert to numeric)\n",
        "wells_df[\"CUMULATIVE_WATER_PROD (BBL)\"] = wells_df[\"CUMULATIVE_WATER_PROD (BBL)\"].astype(str).str.replace(\",\", \"\").astype(float)\n",
        "wells_df[\"CUMULATIVE_OIL_PROD (STB)\"] = wells_df[\"CUMULATIVE_OIL_PROD (STB)\"].astype(str).str.replace(\",\", \"\").astype(float)\n",
        "\n",
        "# Calculate daily water and oil production\n",
        "wells_df[\"Daily_Water_Prod (BBL)\"] = wells_df.groupby(\"WELL_NAME\")[\"CUMULATIVE_WATER_PROD (BBL)\"].diff().fillna(0)\n",
        "wells_df[\"Daily_Oil_Prod (STB)\"] = wells_df.groupby(\"WELL_NAME\")[\"CUMULATIVE_OIL_PROD (STB)\"].diff().fillna(0)\n",
        "\n",
        "# Convert oil to BBL (assuming 1 STB = 1 BBL for simplicity; adjust if needed)\n",
        "wells_df[\"Daily_Oil_Prod (BBL)\"] = wells_df[\"Daily_Oil_Prod (STB)\"]\n",
        "\n",
        "# Calculate watercut (%)\n",
        "wells_df[\"Watercut\"] = wells_df[\"Daily_Water_Prod (BBL)\"] / (wells_df[\"Daily_Oil_Prod (BBL)\"] + wells_df[\"Daily_Water_Prod (BBL)\"])\n",
        "wells_df[\"Watercut\"] = wells_df[\"Watercut\"].fillna(0)"
      ],
      "metadata": {
        "id": "PP5zOsetpUqi"
      },
      "execution_count": null,
      "outputs": []
    },
    {
      "cell_type": "code",
      "source": [
        "def classify_watercut_trend(watercut_series):\n",
        "    if len(watercut_series) < 2:\n",
        "        return \"Insufficient Data\"\n",
        "\n",
        "    x = np.arange(len(watercut_series))\n",
        "    slope, _, _, _, _ = linregress(x, watercut_series)\n",
        "\n",
        "    if abs(slope) < 0.005:  # Flat (slope near zero)\n",
        "        return \"Flat\"\n",
        "    elif slope > 0:          # Increasing\n",
        "        return \"Increasing\"\n",
        "    elif slope < 0:          # Decreasing\n",
        "        return \"Decreasing\"\n",
        "    else:                    # Mixed trends\n",
        "        return \"Combination\"\n",
        "\n",
        "# Group by well and classify trends\n",
        "watercut_trends = wells_df.groupby(\"WELL_NAME\")[\"Watercut\"].apply(\n",
        "    lambda x: classify_watercut_trend(x.dropna())\n",
        ").reset_index(name=\"Watercut_Trend\")\n",
        "\n",
        "print(watercut_trends)"
      ],
      "metadata": {
        "colab": {
          "base_uri": "https://localhost:8080/"
        },
        "id": "KIv9QqvwqJkk",
        "outputId": "6ef65097-b66b-4c35-e2d1-5bb87e5fefa1"
      },
      "execution_count": null,
      "outputs": [
        {
          "output_type": "stream",
          "name": "stdout",
          "text": [
            "   WELL_NAME Watercut_Trend\n",
            "0    Well_#1           Flat\n",
            "1   Well_#10           Flat\n",
            "2   Well_#11           Flat\n",
            "3   Well_#12           Flat\n",
            "4   Well_#13           Flat\n",
            "5   Well_#14           Flat\n",
            "6   Well_#15           Flat\n",
            "7   Well_#16           Flat\n",
            "8   Well_#17           Flat\n",
            "9   Well_#18           Flat\n",
            "10  Well_#19           Flat\n",
            "11   Well_#2           Flat\n",
            "12  Well_#20           Flat\n",
            "13   Well_#3           Flat\n",
            "14   Well_#4           Flat\n",
            "15   Well_#5           Flat\n",
            "16   Well_#6           Flat\n",
            "17   Well_#7           Flat\n",
            "18   Well_#8           Flat\n",
            "19   Well_#9           Flat\n"
          ]
        }
      ]
    },
    {
      "cell_type": "markdown",
      "source": [
        "## **Calculate Total Reservoir Barrels of Oil Produced per Reservoir**"
      ],
      "metadata": {
        "id": "WtofljqBrr5J"
      }
    },
    {
      "cell_type": "code",
      "source": [
        "# Clean and merge data\n",
        "wells_df[\"BOTTOMHOLE_FLOWING_PRESSURE (PSI)\"] = wells_df[\"BOTTOMHOLE_FLOWING_PRESSURE (PSI)\"].astype(float)\n",
        "reservoir_df[\"Formation Volume Factor (RB/STB)\"] = reservoir_df[\"Formation Volume Factor (RB/STB)\"].astype(float)"
      ],
      "metadata": {
        "id": "aytajc5CqRnB"
      },
      "execution_count": null,
      "outputs": []
    },
    {
      "cell_type": "code",
      "source": [
        "# Merge reservoir FVF into wells data\n",
        "wells_df = wells_df.merge(\n",
        "    reservoir_df[[\"Reservoir Name\", \"Formation Volume Factor (RB/STB)\"]],\n",
        "    left_on=\"Reservoir\",  # Column from your reservoir assignment step\n",
        "    right_on=\"Reservoir Name\",\n",
        "    how=\"left\"\n",
        ")"
      ],
      "metadata": {
        "id": "NgN427c0r079"
      },
      "execution_count": null,
      "outputs": []
    },
    {
      "cell_type": "code",
      "source": [
        "# Calculate reservoir barrels for each well's last record (total cumulative production)\n",
        "total_reservoir_barrels = wells_df.groupby([\"Reservoir\", \"WELL_NAME\"])[\"CUMULATIVE_OIL_PROD (STB)\"].last().reset_index()\n",
        "\n",
        "# Merge with wells_df to get the Formation Volume Factor for each well\n",
        "total_reservoir_barrels = total_reservoir_barrels.merge(\n",
        "    wells_df[[\"WELL_NAME\", \"Formation Volume Factor (RB/STB)\"]].drop_duplicates(subset=['WELL_NAME']),\n",
        "    on=\"WELL_NAME\",\n",
        "    how=\"left\"\n",
        ")\n",
        "\n",
        "total_reservoir_barrels[\"Reservoir_Barrels\"] = (\n",
        "    total_reservoir_barrels[\"CUMULATIVE_OIL_PROD (STB)\"] *\n",
        "    total_reservoir_barrels[\"Formation Volume Factor (RB/STB)\"]\n",
        ")\n",
        "\n",
        "# Sum reservoir barrels by reservoir\n",
        "reservoir_totals = total_reservoir_barrels.groupby(\"Reservoir\")[\"Reservoir_Barrels\"].sum().reset_index()\n",
        "print(reservoir_totals)"
      ],
      "metadata": {
        "colab": {
          "base_uri": "https://localhost:8080/"
        },
        "id": "a13MT5Yor85o",
        "outputId": "7c24d5c9-75d0-40a7-82a9-0e2be38a9afa"
      },
      "execution_count": null,
      "outputs": [
        {
          "output_type": "stream",
          "name": "stdout",
          "text": [
            "  Reservoir  Reservoir_Barrels\n",
            "0      ACHI         2268804.00\n",
            "1      DEPU         1513123.90\n",
            "2      KEMA         1723802.05\n",
            "3      MAKO          374285.90\n"
          ]
        }
      ]
    },
    {
      "cell_type": "markdown",
      "source": [
        "## **Determine Well Type (Naturally Flowing vs. Gas Lifted)**"
      ],
      "metadata": {
        "id": "26b9tx-2saRS"
      }
    },
    {
      "cell_type": "code",
      "source": [
        "# Clean annulus pressure data (remove commas, convert to float)\n",
        "wells_df[\"ANNULUS_PRESS (PSI)\"] = (\n",
        "    wells_df[\"ANNULUS_PRESS (PSI)\"]\n",
        "    .str.replace(\",\", \"\")\n",
        "    .astype(float)\n",
        "    .fillna(0)  # Treat missing values as 0\n",
        ")\n",
        "\n",
        "# Classify well type based on annulus pressure\n",
        "wells_df[\"Well_Type\"] = wells_df[\"ANNULUS_PRESS (PSI)\"].apply(\n",
        "    lambda x: \"GL\" if x > 0 else \"NF\"\n",
        ")\n",
        "\n",
        "# Summarize results\n",
        "well_type_summary = wells_df.groupby(\"WELL_NAME\")[\"Well_Type\"].first().reset_index()\n",
        "print(well_type_summary)"
      ],
      "metadata": {
        "colab": {
          "base_uri": "https://localhost:8080/"
        },
        "id": "RORzRJysr9o5",
        "outputId": "f356d0bc-9174-482c-80e1-abd9ace0f6f7"
      },
      "execution_count": null,
      "outputs": [
        {
          "output_type": "stream",
          "name": "stdout",
          "text": [
            "   WELL_NAME Well_Type\n",
            "0    Well_#1        NF\n",
            "1   Well_#10        GL\n",
            "2   Well_#11        GL\n",
            "3   Well_#12        NF\n",
            "4   Well_#13        GL\n",
            "5   Well_#14        GL\n",
            "6   Well_#15        GL\n",
            "7   Well_#16        GL\n",
            "8   Well_#17        GL\n",
            "9   Well_#18        NF\n",
            "10  Well_#19        NF\n",
            "11   Well_#2        NF\n",
            "12  Well_#20        GL\n",
            "13   Well_#3        NF\n",
            "14   Well_#4        GL\n",
            "15   Well_#5        GL\n",
            "16   Well_#6        GL\n",
            "17   Well_#7        GL\n",
            "18   Well_#8        GL\n",
            "19   Well_#9        GL\n"
          ]
        }
      ]
    },
    {
      "cell_type": "markdown",
      "source": [
        "## **Determine Formation GOR Trend**"
      ],
      "metadata": {
        "id": "Pvct0DEvtTAx"
      }
    },
    {
      "cell_type": "code",
      "source": [
        "# Clean and merge data\n",
        "wells_df[\"CUMULATIVE_FORMATION_GAS_PROD (MSCF)\"] = wells_df[\"CUMULATIVE_FORMATION_GAS_PROD (MSCF)\"].str.replace(\",\", \"\").astype(float)\n",
        "reservoir_df[\"Solution Gas-Oil-Ratio (SCF/BBL)\"] = reservoir_df[\"Solution Gas-Oil-Ratio (SCF/BBL)\"].str.replace(\",\", \"\").astype(float)\n",
        "\n",
        "# Merge reservoir Rs into wells data\n",
        "wells_df = wells_df.merge(\n",
        "    reservoir_df[[\"Reservoir Name\", \"Solution Gas-Oil-Ratio (SCF/BBL)\"]],\n",
        "    left_on=\"Reservoir\",  # From reservoir assignment step\n",
        "    right_on=\"Reservoir Name\",\n",
        "    how=\"left\"\n",
        ")\n",
        "\n",
        "# Calculate Formation GOR (FGOR) in SCF/STB (same units as Rs)\n",
        "wells_df[\"FGOR (SCF/STB)\"] = (\n",
        "    wells_df[\"CUMULATIVE_FORMATION_GAS_PROD (MSCF)\"] * 1000 /  # Convert MSCF to SCF\n",
        "    wells_df[\"CUMULATIVE_OIL_PROD (STB)\"]\n",
        ").replace([float('inf'), -float('inf')], 0)  # Handle division by zero\n",
        "\n",
        "# Classify GOR trend per well\n",
        "def classify_gor_trend(group):\n",
        "    rs = group[\"Solution Gas-Oil-Ratio (SCF/BBL)\"].iloc[0]\n",
        "    above = (group[\"FGOR (SCF/STB)\"] > rs).any()\n",
        "    below = (group[\"FGOR (SCF/STB)\"] <= rs).any()\n",
        "\n",
        "    if above and below:\n",
        "        return \"Combo\"\n",
        "    elif above:\n",
        "        return \"aSolGOR\"\n",
        "    else:\n",
        "        return \"bSolGOR\"\n",
        "\n",
        "gor_trends = wells_df.groupby(\"WELL_NAME\").apply(classify_gor_trend).reset_index(name=\"GOR_Trend\")\n",
        "print(gor_trends)"
      ],
      "metadata": {
        "colab": {
          "base_uri": "https://localhost:8080/"
        },
        "id": "bwB0gjwisrFi",
        "outputId": "277b1a8b-d815-49e1-ee26-a746d9e6fa7d"
      },
      "execution_count": null,
      "outputs": [
        {
          "output_type": "stream",
          "name": "stdout",
          "text": [
            "   WELL_NAME GOR_Trend\n",
            "0    Well_#1   aSolGOR\n",
            "1   Well_#10   aSolGOR\n",
            "2   Well_#11   aSolGOR\n",
            "3   Well_#12   bSolGOR\n",
            "4   Well_#13   aSolGOR\n",
            "5   Well_#14   bSolGOR\n",
            "6   Well_#15   aSolGOR\n",
            "7   Well_#16   aSolGOR\n",
            "8   Well_#17   bSolGOR\n",
            "9   Well_#18   aSolGOR\n",
            "10  Well_#19   aSolGOR\n",
            "11   Well_#2     Combo\n",
            "12  Well_#20   bSolGOR\n",
            "13   Well_#3   aSolGOR\n",
            "14   Well_#4   aSolGOR\n",
            "15   Well_#5   aSolGOR\n",
            "16   Well_#6   aSolGOR\n",
            "17   Well_#7   aSolGOR\n",
            "18   Well_#8   aSolGOR\n",
            "19   Well_#9   bSolGOR\n"
          ]
        }
      ]
    },
    {
      "cell_type": "code",
      "source": [],
      "metadata": {
        "id": "SEv7qDMhtcAw"
      },
      "execution_count": null,
      "outputs": []
    }
  ]
}